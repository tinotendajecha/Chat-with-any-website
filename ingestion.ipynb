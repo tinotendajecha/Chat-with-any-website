{
 "cells": [
  {
   "cell_type": "code",
   "execution_count": 1,
   "metadata": {},
   "outputs": [],
   "source": [
    "from qdrant_client import AsyncQdrantClient, models\n",
    "import asyncio\n",
    "import os\n",
    "import time\n",
    "from qdrant_client.models import VectorParams\n",
    "from qdrant_client import AsyncQdrantClient, models\n",
    "from langchain.text_splitter import RecursiveCharacterTextSplitter\n",
    "import uuid\n",
    "from langchain_community.document_loaders import WebBaseLoader"
   ]
  },
  {
   "cell_type": "code",
   "execution_count": 2,
   "metadata": {},
   "outputs": [],
   "source": [
    "# For performing asynchronous calls in a notebook\n",
    "import nest_asyncio\n",
    "nest_asyncio.apply()"
   ]
  },
  {
   "cell_type": "code",
   "execution_count": 3,
   "metadata": {},
   "outputs": [],
   "source": [
    "os.environ[\"QDRANT_API_KEY\"] = \"vCPG1V8yO1kaGzTMWA9y5ql8nn8u-HWiHiKlTNNdE3MKrEI14efpCg\""
   ]
  },
  {
   "cell_type": "code",
   "execution_count": 4,
   "metadata": {},
   "outputs": [],
   "source": [
    "# Load the webpage using its url\n",
    "loader = WebBaseLoader(\"https://docs.ondo.finance/\", verify_ssl=False)\n",
    "loader.requests_kwargs = {'verify': False}"
   ]
  },
  {
   "cell_type": "code",
   "execution_count": 5,
   "metadata": {},
   "outputs": [
    {
     "name": "stderr",
     "output_type": "stream",
     "text": [
      "c:\\Users\\HP\\Desktop\\Chat with any website\\.venv\\lib\\site-packages\\urllib3\\connectionpool.py:1103: InsecureRequestWarning: Unverified HTTPS request is being made to host 'docs.ondo.finance'. Adding certificate verification is strongly advised. See: https://urllib3.readthedocs.io/en/latest/advanced-usage.html#tls-warnings\n",
      "  warnings.warn(\n"
     ]
    }
   ],
   "source": [
    "data_from_website = loader.load()"
   ]
  },
  {
   "cell_type": "code",
   "execution_count": 6,
   "metadata": {},
   "outputs": [
    {
     "data": {
      "text/plain": [
       "[Document(page_content=\"\\n\\n\\n\\n\\nWelcome to Ondo | Ondo Finance Docs\\n\\n\\n\\n\\n\\n\\n\\n\\nSkip to main contentOndo Finance DocsTwitterGitHubWelcome to OndoTrust & SecurityGeneral-Access ProductsUSDY TokenUSDY BasicsComparison to StablecoinsComparison to Other Ondo ProductsHow it WorksFAQUSDY Legal DisclaimerQualified-Access ProductsCash Management 101Onboarding & KYC for Ondo I LPEligibilityOMMF Token (Coming Soon)OUSG TokenHow It WorksAsset StrategyRisk MetricsProtocolsFlux FinanceDeveloper GuidesOndo Token Tools (Bridge and Converter)Ondo Token BridgeOndo Token ConverterUSDY and mUSD ConversionSmart Contract AddressesSmart Contract AuditsOndo V1 — Vaults & LaaSLegalWelcome to OndoOn this pageWelcome to OndoAt Ondo, our mission is to make institutional-grade financial products and services available to everyone.  We believe that blockchain technology has the potential to improve both the infrastructure of — and access to — financial products and services. We also believe that the best technical improvements need to be combined with the best practices from traditional finance, including investor protections, transparency in reporting, legal and regulatory compliance, intelligent and robust product structuring, working with the best service providers, and top-notch client service.To help us do this, we have an asset management arm that creates and manages tokenized financial products as well as a technology arm that develops decentralized finance protocols.Products\\u200bTo get started with our products, simply browse the list of available funds on our website or listed here in these docs. You'll be able to find detailed information, including what assets underlie each, how they work, expected yields and risks, eligibility requirements, and much more. When you find a product you like, once you onboard you can invest by connecting your wallet and depositing stablecoins (or, in some cases, wiring USD). When you wish to redeem your tokens for stablecoins (or USD), you can request a redemption. How long it takes to redeem your tokens depends on the particular product.Protocols\\u200bThe protocols we create are set up to eventually run independently from Ondo. Each protocol has its own separate web app interface on a different web domain governed by a separate entity not controlled by Ondo. When you click on any of the protocols, therefore, you'll notice they open in a different browser window/tab, managed by external parties. The details of any individual protocol can be found on the appropriate site.Learn More\\u200bYou can find out more about Ondo and our offerings by reading through these docs or by visiting our website at https://ondo.finance.Join Our Community\\u200bWe'd love to hear from you. Please consider joining us on Twitter and/or Telegram. You can also contact us at support@ondo.financeNextTrust & SecurityProductsProtocolsLearn MoreJoin Our Community\\n\\n\\n\\n\", metadata={'source': 'https://docs.ondo.finance/', 'title': 'Welcome to Ondo | Ondo Finance Docs', 'description': 'At Ondo, our mission is to make institutional-grade financial products and services available to everyone.  We believe that blockchain technology has the potential to improve both the infrastructure of — and access to — financial products and services. We also believe that the best technical improvements need to be combined with the best practices from traditional finance, including investor protections, transparency in reporting, legal and regulatory compliance, intelligent and robust product structuring, working with the best service providers, and top-notch client service.', 'language': 'en'})]"
      ]
     },
     "execution_count": 6,
     "metadata": {},
     "output_type": "execute_result"
    }
   ],
   "source": [
    "data_from_website"
   ]
  },
  {
   "cell_type": "code",
   "execution_count": 7,
   "metadata": {},
   "outputs": [],
   "source": [
    "# Chunk data from website\n",
    "text_splitter = RecursiveCharacterTextSplitter(chunk_size = 1000, chunk_overlap=200) #Initialize text splitter\n",
    "chunks_of_text = text_splitter.split_documents(data_from_website)"
   ]
  },
  {
   "cell_type": "code",
   "execution_count": 8,
   "metadata": {},
   "outputs": [
    {
     "data": {
      "text/plain": [
       "[Document(page_content='Welcome to Ondo | Ondo Finance Docs', metadata={'source': 'https://docs.ondo.finance/', 'title': 'Welcome to Ondo | Ondo Finance Docs', 'description': 'At Ondo, our mission is to make institutional-grade financial products and services available to everyone.  We believe that blockchain technology has the potential to improve both the infrastructure of — and access to — financial products and services. We also believe that the best technical improvements need to be combined with the best practices from traditional finance, including investor protections, transparency in reporting, legal and regulatory compliance, intelligent and robust product structuring, working with the best service providers, and top-notch client service.', 'language': 'en'}),\n",
       " Document(page_content='Skip to main contentOndo Finance DocsTwitterGitHubWelcome to OndoTrust & SecurityGeneral-Access ProductsUSDY TokenUSDY BasicsComparison to StablecoinsComparison to Other Ondo ProductsHow it WorksFAQUSDY Legal DisclaimerQualified-Access ProductsCash Management 101Onboarding & KYC for Ondo I LPEligibilityOMMF Token (Coming Soon)OUSG TokenHow It WorksAsset StrategyRisk MetricsProtocolsFlux FinanceDeveloper GuidesOndo Token Tools (Bridge and Converter)Ondo Token BridgeOndo Token ConverterUSDY and mUSD ConversionSmart Contract AddressesSmart Contract AuditsOndo V1 — Vaults & LaaSLegalWelcome to OndoOn this pageWelcome to OndoAt Ondo, our mission is to make institutional-grade financial products and services available to everyone.  We believe that blockchain technology has the potential to improve both the infrastructure of — and access to — financial products and services. We also believe that the best technical improvements need to be combined with the best practices from traditional', metadata={'source': 'https://docs.ondo.finance/', 'title': 'Welcome to Ondo | Ondo Finance Docs', 'description': 'At Ondo, our mission is to make institutional-grade financial products and services available to everyone.  We believe that blockchain technology has the potential to improve both the infrastructure of — and access to — financial products and services. We also believe that the best technical improvements need to be combined with the best practices from traditional finance, including investor protections, transparency in reporting, legal and regulatory compliance, intelligent and robust product structuring, working with the best service providers, and top-notch client service.', 'language': 'en'}),\n",
       " Document(page_content=\"improve both the infrastructure of — and access to — financial products and services. We also believe that the best technical improvements need to be combined with the best practices from traditional finance, including investor protections, transparency in reporting, legal and regulatory compliance, intelligent and robust product structuring, working with the best service providers, and top-notch client service.To help us do this, we have an asset management arm that creates and manages tokenized financial products as well as a technology arm that develops decentralized finance protocols.Products\\u200bTo get started with our products, simply browse the list of available funds on our website or listed here in these docs. You'll be able to find detailed information, including what assets underlie each, how they work, expected yields and risks, eligibility requirements, and much more. When you find a product you like, once you onboard you can invest by connecting your wallet and depositing\", metadata={'source': 'https://docs.ondo.finance/', 'title': 'Welcome to Ondo | Ondo Finance Docs', 'description': 'At Ondo, our mission is to make institutional-grade financial products and services available to everyone.  We believe that blockchain technology has the potential to improve both the infrastructure of — and access to — financial products and services. We also believe that the best technical improvements need to be combined with the best practices from traditional finance, including investor protections, transparency in reporting, legal and regulatory compliance, intelligent and robust product structuring, working with the best service providers, and top-notch client service.', 'language': 'en'}),\n",
       " Document(page_content=\"each, how they work, expected yields and risks, eligibility requirements, and much more. When you find a product you like, once you onboard you can invest by connecting your wallet and depositing stablecoins (or, in some cases, wiring USD). When you wish to redeem your tokens for stablecoins (or USD), you can request a redemption. How long it takes to redeem your tokens depends on the particular product.Protocols\\u200bThe protocols we create are set up to eventually run independently from Ondo. Each protocol has its own separate web app interface on a different web domain governed by a separate entity not controlled by Ondo. When you click on any of the protocols, therefore, you'll notice they open in a different browser window/tab, managed by external parties. The details of any individual protocol can be found on the appropriate site.Learn More\\u200bYou can find out more about Ondo and our offerings by reading through these docs or by visiting our website at https://ondo.finance.Join Our\", metadata={'source': 'https://docs.ondo.finance/', 'title': 'Welcome to Ondo | Ondo Finance Docs', 'description': 'At Ondo, our mission is to make institutional-grade financial products and services available to everyone.  We believe that blockchain technology has the potential to improve both the infrastructure of — and access to — financial products and services. We also believe that the best technical improvements need to be combined with the best practices from traditional finance, including investor protections, transparency in reporting, legal and regulatory compliance, intelligent and robust product structuring, working with the best service providers, and top-notch client service.', 'language': 'en'}),\n",
       " Document(page_content=\"protocol can be found on the appropriate site.Learn More\\u200bYou can find out more about Ondo and our offerings by reading through these docs or by visiting our website at https://ondo.finance.Join Our Community\\u200bWe'd love to hear from you. Please consider joining us on Twitter and/or Telegram. You can also contact us at support@ondo.financeNextTrust & SecurityProductsProtocolsLearn MoreJoin Our Community\", metadata={'source': 'https://docs.ondo.finance/', 'title': 'Welcome to Ondo | Ondo Finance Docs', 'description': 'At Ondo, our mission is to make institutional-grade financial products and services available to everyone.  We believe that blockchain technology has the potential to improve both the infrastructure of — and access to — financial products and services. We also believe that the best technical improvements need to be combined with the best practices from traditional finance, including investor protections, transparency in reporting, legal and regulatory compliance, intelligent and robust product structuring, working with the best service providers, and top-notch client service.', 'language': 'en'})]"
      ]
     },
     "execution_count": 8,
     "metadata": {},
     "output_type": "execute_result"
    }
   ],
   "source": [
    "chunks_of_text"
   ]
  },
  {
   "cell_type": "code",
   "execution_count": 9,
   "metadata": {},
   "outputs": [],
   "source": [
    "qdrant_client = AsyncQdrantClient(\n",
    "    url=\"https://dd489e3d-8648-47fe-88cf-156f8e9e2c90.us-east4-0.gcp.cloud.qdrant.io:6333\", \n",
    "    api_key=\"vCPG1V8yO1kaGzTMWA9y5ql8nn8u-HWiHiKlTNNdE3MKrEI14efpCg\",\n",
    ")"
   ]
  },
  {
   "cell_type": "code",
   "execution_count": 10,
   "metadata": {},
   "outputs": [],
   "source": [
    "name_of_collection = 'user_collection'"
   ]
  },
  {
   "cell_type": "code",
   "execution_count": 11,
   "metadata": {},
   "outputs": [],
   "source": [
    "# Get the names of all existing collections and append to list\n",
    "info = await qdrant_client.get_collections()\n",
    "existing_collections = [] \n",
    "for each_collection in info.collections:\n",
    "    existing_collections.append(each_collection.name)"
   ]
  },
  {
   "cell_type": "code",
   "execution_count": 12,
   "metadata": {},
   "outputs": [
    {
     "data": {
      "text/plain": [
       "['user_collection']"
      ]
     },
     "execution_count": 12,
     "metadata": {},
     "output_type": "execute_result"
    }
   ],
   "source": [
    "existing_collections"
   ]
  },
  {
   "cell_type": "code",
   "execution_count": 13,
   "metadata": {},
   "outputs": [],
   "source": [
    "collectionExists = True if name_of_collection in existing_collections else False"
   ]
  },
  {
   "cell_type": "code",
   "execution_count": 14,
   "metadata": {},
   "outputs": [],
   "source": [
    "# If collection does not exist create one using qdrant client\n",
    "if collectionExists == False:\n",
    "  await qdrant_client.create_collection(\n",
    "  collection_name=name_of_collection,\n",
    "  vectors_config=models.VectorParams(size=768, distance=models.Distance.COSINE),\n",
    "  )\n",
    "  print('Collection Created!')"
   ]
  },
  {
   "cell_type": "code",
   "execution_count": 15,
   "metadata": {},
   "outputs": [],
   "source": [
    "from langchain_community.vectorstores import Qdrant\n",
    "from langchain_community.embeddings import HuggingFaceBgeEmbeddings"
   ]
  },
  {
   "cell_type": "code",
   "execution_count": 16,
   "metadata": {},
   "outputs": [
    {
     "name": "stderr",
     "output_type": "stream",
     "text": [
      "c:\\Users\\HP\\Desktop\\Chat with any website\\.venv\\lib\\site-packages\\tqdm\\auto.py:21: TqdmWarning: IProgress not found. Please update jupyter and ipywidgets. See https://ipywidgets.readthedocs.io/en/stable/user_install.html\n",
      "  from .autonotebook import tqdm as notebook_tqdm\n"
     ]
    }
   ],
   "source": [
    "# configure my embedding model from huggingface\n",
    "model_name = \"BAAI/bge-small-en\"\n",
    "model_kwargs = {\"device\": \"cpu\"}\n",
    "encode_kwargs = {\"normalize_embeddings\": True}\n",
    "embeddings_model = HuggingFaceBgeEmbeddings(\n",
    "    model_name=model_name, model_kwargs=model_kwargs, encode_kwargs=encode_kwargs\n",
    ")"
   ]
  },
  {
   "cell_type": "code",
   "execution_count": 30,
   "metadata": {},
   "outputs": [],
   "source": [
    "vector_store = Qdrant.from_documents(\n",
    "    chunks_of_text,\n",
    "    embeddings_model,\n",
    "    url=\"https://dd489e3d-8648-47fe-88cf-156f8e9e2c90.us-east4-0.gcp.cloud.qdrant.io:6333\", \n",
    "    api_key=\"vCPG1V8yO1kaGzTMWA9y5ql8nn8u-HWiHiKlTNNdE3MKrEI14efpCg\",\n",
    "    collection_name=name_of_collection,\n",
    "    force_recreate=True\n",
    ")"
   ]
  },
  {
   "cell_type": "markdown",
   "metadata": {},
   "source": [
    "# Hook up retrieval chain"
   ]
  },
  {
   "cell_type": "code",
   "execution_count": null,
   "metadata": {},
   "outputs": [],
   "source": []
  }
 ],
 "metadata": {
  "kernelspec": {
   "display_name": ".venv",
   "language": "python",
   "name": "python3"
  },
  "language_info": {
   "codemirror_mode": {
    "name": "ipython",
    "version": 3
   },
   "file_extension": ".py",
   "mimetype": "text/x-python",
   "name": "python",
   "nbconvert_exporter": "python",
   "pygments_lexer": "ipython3",
   "version": "3.10.0"
  }
 },
 "nbformat": 4,
 "nbformat_minor": 2
}
