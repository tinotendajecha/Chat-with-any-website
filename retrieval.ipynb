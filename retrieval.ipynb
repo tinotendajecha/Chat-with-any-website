{
 "cells": [
  {
   "cell_type": "code",
   "execution_count": 18,
   "metadata": {},
   "outputs": [],
   "source": [
    "from langchain_groq import ChatGroq\n",
    "from langchain_community.embeddings import HuggingFaceBgeEmbeddings\n",
    "from qdrant_client import AsyncQdrantClient, models, QdrantClient"
   ]
  },
  {
   "cell_type": "code",
   "execution_count": 3,
   "metadata": {},
   "outputs": [],
   "source": [
    "llm = ChatGroq(api_key=\"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\")"
   ]
  },
  {
   "cell_type": "code",
   "execution_count": 4,
   "metadata": {},
   "outputs": [
    {
     "name": "stderr",
     "output_type": "stream",
     "text": [
      "c:\\Users\\HP\\Desktop\\Chat with any website\\.venv\\lib\\site-packages\\tqdm\\auto.py:21: TqdmWarning: IProgress not found. Please update jupyter and ipywidgets. See https://ipywidgets.readthedocs.io/en/stable/user_install.html\n",
      "  from .autonotebook import tqdm as notebook_tqdm\n"
     ]
    }
   ],
   "source": [
    "# configure my embedding model from huggingface\n",
    "model_name = \"BAAI/bge-small-en\"\n",
    "model_kwargs = {\"device\": \"cpu\"}\n",
    "encode_kwargs = {\"normalize_embeddings\": True}\n",
    "embeddings_model = HuggingFaceBgeEmbeddings(\n",
    "    model_name=model_name, model_kwargs=model_kwargs, encode_kwargs=encode_kwargs\n",
    ")"
   ]
  },
  {
   "cell_type": "code",
   "execution_count": 27,
   "metadata": {},
   "outputs": [],
   "source": [
    "# create the qdrant client\n",
    "qdrant_client = QdrantClient(\n",
    "    url=\"https://dd489e3d-8648-47fe-88cf-156f8e9e2c90.us-east4-0.gcp.cloud.qdrant.io:6333\", \n",
    "    api_key=\"vCPG1V8yO1kaGzTMWA9y5ql8nn8u-HWiHiKlTNNdE3MKrEI14efpCg\",\n",
    ")\n"
   ]
  },
  {
   "cell_type": "code",
   "execution_count": 29,
   "metadata": {},
   "outputs": [],
   "source": [
    "from langchain_community.vectorstores import Qdrant"
   ]
  },
  {
   "cell_type": "code",
   "execution_count": 30,
   "metadata": {},
   "outputs": [],
   "source": [
    "# check for the available collectuions in the vector store\n",
    "collections = qdrant_client.get_collections()\n"
   ]
  },
  {
   "cell_type": "code",
   "execution_count": 31,
   "metadata": {},
   "outputs": [
    {
     "name": "stdout",
     "output_type": "stream",
     "text": [
      "user_collection\n"
     ]
    }
   ],
   "source": [
    "list_of_collections = collections.collections\n",
    "\n",
    "for each_collection in list_of_collections:\n",
    "    print(each_collection.name)"
   ]
  },
  {
   "cell_type": "code",
   "execution_count": 32,
   "metadata": {},
   "outputs": [],
   "source": [
    "# Connect to a document store\n",
    "doc_store = Qdrant(\n",
    "        client=qdrant_client,\n",
    "        collection_name='user_collection', # Can change the collection here\n",
    "        embeddings = embeddings_model\n",
    "        )"
   ]
  },
  {
   "cell_type": "code",
   "execution_count": 33,
   "metadata": {},
   "outputs": [],
   "source": [
    "from langchain.chains import RetrievalQA"
   ]
  },
  {
   "cell_type": "code",
   "execution_count": 34,
   "metadata": {},
   "outputs": [],
   "source": [
    "# Create the retrieval chain\n",
    "qa = RetrievalQA.from_chain_type(\n",
    "        llm = llm,\n",
    "        chain_type=\"stuff\",\n",
    "        retriever= doc_store.as_retriever(),\n",
    "        return_source_documents=True\n",
    "    )"
   ]
  },
  {
   "cell_type": "code",
   "execution_count": null,
   "metadata": {},
   "outputs": [],
   "source": [
    "user_query = 'What is Ondo Finance?'\n",
    "response = qa.invoke(user_query)"
   ]
  },
  {
   "cell_type": "code",
   "execution_count": 40,
   "metadata": {},
   "outputs": [
    {
     "name": "stdout",
     "output_type": "stream",
     "text": [
      "Response: Ondo Finance is a company that aims to make institutional-grade financial products and services available to everyone, utilizing blockchain technology to improve both the infrastructure of and access to financial products and services. They offer various financial products, each with their own features, expected yields, risks, eligibility requirements, and so on. Once onboarded, users can invest by connecting their wallet and depositing stablecoins or, in some cases, wiring USD. When they wish to redeem their tokens for stablecoins or USD, they can request a redemption. The redemption process time depends on the particular product.\n",
      "\n",
      "Ondo Finance also develops protocols that are set up to run independently from the company. These protocols have their own separate web app interfaces on different web domains, governed by separate entities not controlled by Ondo Finance. More information about Ondo Finance and their offerings can be found on their website (https://ondo.finance) and in these docs.\n"
     ]
    }
   ],
   "source": [
    "print(f\"Response: {response['result']}\")"
   ]
  }
 ],
 "metadata": {
  "kernelspec": {
   "display_name": ".venv",
   "language": "python",
   "name": "python3"
  },
  "language_info": {
   "codemirror_mode": {
    "name": "ipython",
    "version": 3
   },
   "file_extension": ".py",
   "mimetype": "text/x-python",
   "name": "python",
   "nbconvert_exporter": "python",
   "pygments_lexer": "ipython3",
   "version": "3.10.0"
  }
 },
 "nbformat": 4,
 "nbformat_minor": 2
}
