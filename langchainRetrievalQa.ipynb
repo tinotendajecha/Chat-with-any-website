{
  "cells": [
    {
      "cell_type": "markdown",
      "metadata": {},
      "source": [
        "# Retrieval script for QA"
      ]
    },
    {
      "cell_type": "code",
      "execution_count": null,
      "metadata": {
        "id": "8gFAKGfVkc1p"
      },
      "outputs": [],
      "source": [
        "# Installing libraries - uncomment code below\n",
        "# !pip install -qU langchain qdrant-client openai pypdf pypdf2 langchain-openai langchain-community uuid tiktoken"
      ]
    },
    {
      "cell_type": "markdown",
      "metadata": {},
      "source": [
        "# Import Libraries"
      ]
    },
    {
      "cell_type": "code",
      "execution_count": null,
      "metadata": {
        "id": "oRLx5ZZVmXyL"
      },
      "outputs": [],
      "source": [
        "import os\n",
        "import time\n",
        "import asyncio\n",
        "from langchain_openai import OpenAIEmbeddings\n",
        "\n",
        "from langchain.retrievers.multi_query import MultiQueryRetriever\n",
        "from langchain_openai import ChatOpenAI\n",
        "from qdrant_client import QdrantClient\n",
        "from langchain_community.vectorstores import Qdrant\n",
        "\n",
        "from langchain.chains import VectorDBQA\n",
        "from langchain.chains import RetrievalQA\n",
        "from langchain_openai import OpenAI\n",
        "from langchain_community.vectorstores import Qdrant\n",
        "from langchain.schema import retriever"
      ]
    },
    {
      "cell_type": "code",
      "execution_count": null,
      "metadata": {},
      "outputs": [],
      "source": [
        "# Load the environment variables\n",
        "qdrant_host = os.getenv('QDRANT_HOST')\n",
        "openai_api_key = os.getenv('OPENAI_API_KEY')"
      ]
    },
    {
      "cell_type": "code",
      "execution_count": null,
      "metadata": {
        "id": "hJ4Qet5jmfds"
      },
      "outputs": [],
      "source": [
        "# Initialize the embedding model\n",
        "embeddings_model = OpenAIEmbeddings(model='text-embedding-3-small', dimensions=768, api_key=openai_api_key)"
      ]
    },
    {
      "cell_type": "code",
      "execution_count": null,
      "metadata": {
        "id": "IuYMY39Omk0T"
      },
      "outputs": [],
      "source": [
        "# Initialize qdrant client\n",
        "client = QdrantClient(url=qdrant_host)"
      ]
    },
    {
      "cell_type": "code",
      "execution_count": null,
      "metadata": {
        "id": "9a-himShk3Ub"
      },
      "outputs": [],
      "source": [
        "# Get list of collections present in qdrant store\n",
        "collections = client.get_collections()"
      ]
    },
    {
      "cell_type": "code",
      "execution_count": null,
      "metadata": {
        "colab": {
          "base_uri": "https://localhost:8080/"
        },
        "id": "usx8oVXfl1y9",
        "outputId": "e84aa3ff-7692-4c9e-f273-d06103c5de8b"
      },
      "outputs": [
        {
          "name": "stdout",
          "output_type": "stream",
          "text": [
            "RegDb vectors 1000-chars-sb\n",
            "llamaparse pl 256-tokens\n",
            "RegDb Vectors v1\n",
            "RegDb Vectors v2\n",
            "test 768-dim\n",
            "test\n",
            "RegDb Vectors\n",
            "llamaparse 3-pdf files\n",
            "New-768-dim-sb\n"
          ]
        }
      ],
      "source": [
        "# Print list of collections\n",
        "list_of_collections = collections.collections\n",
        "for collection in list_of_collections:\n",
        "  print(collection.name)"
      ]
    },
    {
      "cell_type": "markdown",
      "metadata": {},
      "source": [
        "# Configure doc store"
      ]
    },
    {
      "cell_type": "code",
      "execution_count": null,
      "metadata": {
        "id": "V8bWFI2qmnzN"
      },
      "outputs": [],
      "source": [
        "# Connect to a document store\n",
        "doc_store = Qdrant(\n",
        "        client=client,\n",
        "        collection_name='New-768-dim-sb', # Can change the collection here\n",
        "        embeddings = embeddings_model\n",
        "        )"
      ]
    },
    {
      "cell_type": "code",
      "execution_count": null,
      "metadata": {
        "id": "HoXY-KRBmqGq"
      },
      "outputs": [],
      "source": [
        "# initialize openai llm\n",
        "llm = OpenAI(api_key=openai_api_key)"
      ]
    },
    {
      "cell_type": "markdown",
      "metadata": {},
      "source": [
        "# Configure the QARetrieval chain for chat"
      ]
    },
    {
      "cell_type": "code",
      "execution_count": null,
      "metadata": {
        "id": "Nb6YVlFvmsfC"
      },
      "outputs": [],
      "source": [
        "qa = RetrievalQA.from_chain_type(\n",
        "        llm = llm,\n",
        "        chain_type=\"stuff\",\n",
        "        retriever= doc_store.as_retriever(),\n",
        "        return_source_documents=True\n",
        "    )"
      ]
    },
    {
      "cell_type": "markdown",
      "metadata": {},
      "source": [
        "# Enter prompt query"
      ]
    },
    {
      "cell_type": "code",
      "execution_count": null,
      "metadata": {
        "id": "v3EtyN5Kmx8_"
      },
      "outputs": [],
      "source": [
        "# user_query = 'What is registration of type 1 dealing in securities activities?'\n",
        "# user_query = 'What are the virtual assets regulations by the SFC in hong kong.'\n",
        "# user_query = 'What did the SEC staff advise Judge Torres?'\n",
        "# user_query = 'What does the 1940 Act provides?'\n",
        "# user_query = 'When was Celsius Crypto lender Celsius founded'\n",
        "# user_query = 'What will regulated Activity in relation to Virtual Assets be granted?'\n",
        "# user_query = 'Who identified the risks associated with investing in virtual assets and in which year?'\n",
        "# user_query = 'explain virtual asset-knowledge test'\n",
        "# user_query = 'What does the 7.1. Selling restrictions state?'\n",
        "# user_query = 'principal Rules for Authorised Persons conducting a Regulated Activity in relation to Virtual Assets are set out in which chapter?'\n",
        "# user_query = 'What does the COBS Rule 17.2.1 permits?'/\n",
        "# user_query = 'What will an applicant applying for an FSP need to submit?'\n",
        "# user_query = 'What is FSRA and FSP and what do they do?'\n",
        "# user_query = 'What was the SFC regulation for virtual asset in 2018? Give me all possible details.'\n",
        "# user_query = 'Give me the latest crypto regulation by SFC in HongKong.'\n",
        "# user_query = 'What transition period is provided for intermediaries serving existing clients of VA dealing services before the full implementation of the updated requirements? '\n",
        "user_query = 'Explain the travel rule and where and why it poses a challenge?'\n",
        "response = qa.invoke(user_query)"
      ]
    },
    {
      "cell_type": "markdown",
      "metadata": {},
      "source": [
        "# Print the sources of the documents"
      ]
    },
    {
      "cell_type": "code",
      "execution_count": null,
      "metadata": {
        "id": "cjIMJHL_3nk8"
      },
      "outputs": [],
      "source": [
        "# Print the sources where the response is coming from\n",
        "sources = response['source_documents']\n",
        "\n",
        "for source in sources:\n",
        "  print(source.page_content)\n",
        "  print('############################')\n",
        "  print()"
      ]
    },
    {
      "cell_type": "code",
      "execution_count": null,
      "metadata": {
        "id": "b0vAgSlesImM"
      },
      "outputs": [],
      "source": [
        "# By default the metadata returned is the collection name and document id \n",
        "# So here we retrieve more meta data using these variables\n",
        "retrieved_docs = []\n",
        "\n",
        "for source in sources:\n",
        "  doc_id = source.metadata['_id']\n",
        "  collection_name = source.metadata['_collection_name']\n",
        "\n",
        "  # Query every doc and append to list\n",
        "  document = client.retrieve(\n",
        "       collection_name=collection_name,\n",
        "       ids=[doc_id],\n",
        "       with_payload=True\n",
        "  )\n",
        "\n",
        "  retrieved_docs.append(document)"
      ]
    },
    {
      "cell_type": "code",
      "execution_count": null,
      "metadata": {
        "colab": {
          "base_uri": "https://localhost:8080/"
        },
        "id": "SbvYirzU48pX",
        "outputId": "adfbed27-6f6c-4047-f10d-2b31f345bd80"
      },
      "outputs": [
        {
          "data": {
            "text/plain": [
              "[[Record(id='ee989b8d-4daa-4350-b2a6-9c977c71a41c', payload={'author': '', 'creation_date': \"D:20231027094747+01'00'\", 'creator': 'Adobe InDesign 19.0 (Windows)', 'modification_date': \"D:20231027104743+01'00'\", 'page': 104, 'page_content': 'solutions to enable the implementation of the “travel rule” was noted, although issues \\nremain to be addressed by the public and private sectors for a practical implementation \\nof the recommendations.', 'producer': 'Adobe PDF Library 17.0', 'source': 'pdf_files/Blockchain and Cryptocurrency Regulation 2024.pdf', 'title': ''}, vector=None, shard_key=None)],\n",
              " [Record(id='6b63f3cc-0d74-42d5-8cd7-ed0ecda85e9d', payload={'author': '', 'creation_date': \"D:20231027094747+01'00'\", 'creator': 'Adobe InDesign 19.0 (Windows)', 'modification_date': \"D:20231027104743+01'00'\", 'page': 105, 'page_content': 'only 29 countries have currently implemented travel rule requirements applicable to \\nV As and V ASPs and only 11 have started enforcement, out of 98 countries surveyed in \\nMarch 2022.\\n The Targeted Update confirms that there are technological solutions to support \\ncompliance with the travel rule and providers have started taking steps in ensuring \\ninteroperability with other solutions, but encourages further innovations from the \\nprivate sector to develop operable technological tools enabling global implementation.\\n As regards DeFi, the Targeted Update states that FATF continues to focus on the \\nsubstance of a transaction rather than terminology and notes that FATF’s recent outreach \\nwith industry suggests that “decentralised” can currently be a marketing term rather than \\na technological description, and that even in so-called “decentralised arrangements”, \\nthere often continues to be persons and centralised aspects that may be subject to AML/', 'producer': 'Adobe PDF Library 17.0', 'source': 'pdf_files/Blockchain and Cryptocurrency Regulation 2024.pdf', 'title': ''}, vector=None, shard_key=None)],\n",
              " [Record(id='a6b8b967-5334-4859-a883-43d41e72229f', payload={'author': '', 'creation_date': \"D:20231027094747+01'00'\", 'creator': 'Adobe InDesign 19.0 (Windows)', 'modification_date': \"D:20231027104743+01'00'\", 'page': 320, 'page_content': 'provides for enhanced traceability of crypto-asset transfers and identity verification (know-\\nyour-customer, or “KYC”).  The newly adopted regulation consists of an amendment to the \\n2015 TFR regulation, which transposes the FATF’s Travel Rule under EU law.\\nTFR aims to strengthen the EU’s AML/CFT rules by transposing the FATF’s Travel Rule \\nrequirements into EU law.  TFR therefore establishes a dedicated framework for tracing \\ncrypto-asset transfers by imposing Travel Rule requirements on CASPs.  Accordingly, as \\ndetailed above, EU CASPs will be required to comply with Travel Rule obligations for \\nevery transaction, regardless of amount.  No de minimis  threshold will apply, and there will \\nbe no simplification of requirements for transactions within the EU.  Stronger requirements \\nwill apply to transactions with self-hosted wallets, according to which transfers of more \\nthan EUR 1,000 between a CASP and a self-hosted wallet will be subject to the appropriate', 'producer': 'Adobe PDF Library 17.0', 'source': 'pdf_files/Blockchain and Cryptocurrency Regulation 2024.pdf', 'title': ''}, vector=None, shard_key=None)],\n",
              " [Record(id='0c9b9b12-31e1-46f8-8a0d-a216706e4c66', payload={'author': '', 'creation_date': \"D:20231027094747+01'00'\", 'creator': 'Adobe InDesign 19.0 (Windows)', 'modification_date': \"D:20231027104743+01'00'\", 'page': 188, 'page_content': 'traditional rules regarding relevant jurisdiction and territorial application.  This will \\nbecome even more challenging when DLT-based distributed networks are everywhere \\nall at once with no central location.  English courts have held that territorial jurisdiction', 'producer': 'Adobe PDF Library 17.0', 'source': 'pdf_files/Blockchain and Cryptocurrency Regulation 2024.pdf', 'title': ''}, vector=None, shard_key=None)]]"
            ]
          },
          "execution_count": 40,
          "metadata": {},
          "output_type": "execute_result"
        }
      ],
      "source": [
        "retrieved_docs"
      ]
    },
    {
      "cell_type": "code",
      "execution_count": null,
      "metadata": {
        "id": "_309TSU81VM3"
      },
      "outputs": [],
      "source": [
        "# Print out the source docs and detailed metadata\n",
        "for each_doc in retrieved_docs:\n",
        "  record = each_doc[0]\n",
        "\n",
        "  retrieved_payload = record.payload\n",
        "  source = retrieved_payload['source']\n",
        "  page_content = retrieved_payload['page_content']\n",
        "  page_number = retrieved_payload['page']"
      ]
    },
    {
      "cell_type": "code",
      "execution_count": null,
      "metadata": {
        "colab": {
          "base_uri": "https://localhost:8080/"
        },
        "id": "Dw9Js9OiwxAt",
        "outputId": "0dfca2f0-38c1-4ba3-c66b-02a2ffe9c84a"
      },
      "outputs": [
        {
          "name": "stdout",
          "output_type": "stream",
          "text": [
            "User Query: Explain the travel rule and where and why it poses a challenge?\n",
            "Response:  The travel rule, as set by the FATF, requires virtual asset service providers (VASPs) to collect and transfer certain information about their customers when conducting transactions. This includes information such as the originator and beneficiary of the transaction, as well as the amount and date of the transaction. While there are technological solutions to enable compliance with this rule, it remains a challenge for both the public and private sectors to implement it globally. Currently, only 29 countries have implemented travel rule requirements and only 11 have started enforcing them. The challenge lies in ensuring interoperability between different solutions and addressing issues such as those posed by decentralized finance (DeFi), where the traditional rules of jurisdiction and territorial application may not apply. Additionally, the recently adopted EU regulation, TFR, aims to strengthen AML/CFT rules by imposing travel rule requirements on crypto-asset service providers (CASPs) for every transaction, regardless of amount. This poses a challenge for CASPs to comply with the rule and for regulators to enforce it, especially in the face of DLT-based distributed networks that have no central location.\n"
          ]
        }
      ],
      "source": [
        "print(f\"User Query: {response['query']}\")\n",
        "print(f\"Response: {response['result']}\")"
      ]
    }
  ],
  "metadata": {
    "colab": {
      "provenance": []
    },
    "kernelspec": {
      "display_name": "Python 3",
      "name": "python3"
    },
    "language_info": {
      "name": "python",
      "version": "3.10.0"
    }
  },
  "nbformat": 4,
  "nbformat_minor": 0
}
